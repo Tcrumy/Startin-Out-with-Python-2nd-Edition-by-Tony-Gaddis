{
 "cells": [
  {
   "cell_type": "code",
   "execution_count": null,
   "metadata": {},
   "outputs": [],
   "source": [
    "# Algorithm workbench\n"
   ]
  },
  {
   "cell_type": "code",
   "execution_count": null,
   "metadata": {},
   "outputs": [],
   "source": [
    "#1\n",
    "import random\n",
    "\n",
    "rand = random.randint(1,100)\n",
    "\n",
    "rand"
   ]
  },
  {
   "cell_type": "code",
   "execution_count": null,
   "metadata": {},
   "outputs": [],
   "source": [
    "#3 \n",
    "def cube(n):\n",
    "    return n**3\n",
    "result = cube(4)\n",
    "result"
   ]
  },
  {
   "cell_type": "code",
   "execution_count": 2,
   "metadata": {},
   "outputs": [
    {
     "data": {
      "text/plain": [
       "5.0"
      ]
     },
     "execution_count": 2,
     "metadata": {},
     "output_type": "execute_result"
    }
   ],
   "source": [
    "#2 \n",
    "def half(n):\n",
    "    return n/2\n",
    "result = half(10)\n",
    "result"
   ]
  },
  {
   "cell_type": "code",
   "execution_count": 3,
   "metadata": {},
   "outputs": [
    {
     "name": "stdout",
     "output_type": "stream",
     "text": [
      "0.0\n",
      "0.5\n",
      "1.0\n",
      "1.5\n",
      "2.0\n",
      "2.5\n",
      "3.0\n",
      "3.5\n",
      "4.0\n",
      "4.5\n",
      "5.0\n",
      "5.5\n",
      "6.0\n",
      "6.5\n",
      "7.0\n",
      "7.5\n",
      "8.0\n",
      "8.5\n",
      "9.0\n",
      "9.5\n"
     ]
    }
   ],
   "source": [
    "for i in range(20):\n",
    "    print(half(i))"
   ]
  },
  {
   "cell_type": "code",
   "execution_count": null,
   "metadata": {},
   "outputs": [],
   "source": [
    "#4\n",
    "def times_ten(n):\n",
    "    return n*10\n",
    "times_ten(10)"
   ]
  },
  {
   "cell_type": "code",
   "execution_count": null,
   "metadata": {},
   "outputs": [],
   "source": [
    "#5 \n",
    "def get_first_name():\n",
    "    return input('What is your first name?:').capitalize()\n",
    "get_first_name()"
   ]
  },
  {
   "cell_type": "code",
   "execution_count": null,
   "metadata": {},
   "outputs": [],
   "source": [
    "# Programming exercises"
   ]
  },
  {
   "cell_type": "code",
   "execution_count": null,
   "metadata": {},
   "outputs": [],
   "source": [
    "#1\n",
    "feet = int(input('Enter lenght in feet: '))\n",
    "def feet_to_inches(feet):\n",
    "    return feet * 12\n",
    "feet_to_inches(feet)\n"
   ]
  },
  {
   "cell_type": "code",
   "execution_count": null,
   "metadata": {},
   "outputs": [],
   "source": [
    "#2\n",
    "\n",
    "def math_quiz():\n",
    "    num_1 = random.randint(0,1000)\n",
    "    num_2 = random.randint(0,1000)\n",
    "    ans = num_1 + num_2\n",
    "    user_ans = input('What is {} + {}? '.format(num_1,num_2))\n",
    "    \n",
    "    while int(user_ans) != ans:\n",
    "        print('That is not correct. Try again.')\n",
    "        user_ans = input('What is {} + {}? '.format(num_1,num_2))\n",
    "    \n",
    "    print('That is the correct answer.')\n",
    "        \n",
    "math_quiz()"
   ]
  },
  {
   "cell_type": "code",
   "execution_count": null,
   "metadata": {},
   "outputs": [],
   "source": [
    "#3\n",
    "\n",
    "def maximum(a,b):\n",
    "    return max(a,b)\n",
    "\n",
    "maximum(10,1)"
   ]
  },
  {
   "cell_type": "code",
   "execution_count": null,
   "metadata": {},
   "outputs": [],
   "source": [
    "#4\n",
    "\n",
    "def falling_distance(time):\n",
    "    return .5*9.8*time**2\n",
    "\n",
    "for i in range(10):\n",
    "    print(falling_distance(i))"
   ]
  },
  {
   "cell_type": "code",
   "execution_count": null,
   "metadata": {},
   "outputs": [],
   "source": [
    "#5\n",
    "# This program will use a main function to call get_input() function and kinetic_energy() function\n",
    "def main():\n",
    "  \n",
    "    # multiple assignment is used to assign mass and velocity variables\n",
    "    \n",
    "    mass,velocity=get_input()\n",
    "    \n",
    "    \n",
    "    ke= kinetic_energy(mass,velocity) # mass and velocity passed into kinetic energy function\n",
    "    \n",
    "    print('Your kinetic energy in {} joules.'.format(ke))\n",
    "        \n",
    "def kinetic_energy(mass,velocity): # returns kinetic energy in joules\n",
    "    return .5*mass*velocity**2\n",
    "\n",
    "def get_input():\n",
    "    m = float(input('What is the objects mass in kg? '))\n",
    "    v = float(input('What is the objects velocity in meters per second? '))\n",
    "    return m,v # returns mass and velocity using multiple assignment\n",
    "main()\n",
    "        "
   ]
  },
  {
   "cell_type": "code",
   "execution_count": null,
   "metadata": {},
   "outputs": [],
   "source": [
    "#6\n",
    "def main():\n",
    "    test_1 = float(input('Test score #1: '))\n",
    "    test_2 = float(input('Test score #2: '))\n",
    "    test_3 = float(input('Test score #3: '))\n",
    "    test_4 = float(input('Test score #4: '))\n",
    "    test_5 = float(input('Test score #5 '))\n",
    "    \n",
    "    test_score = [test_1,test_2,test_3,test_4,test_5]\n",
    "   \n",
    "    average = calc_average(test_1,test_2,test_3,test_4,test_5)\n",
    "    \n",
    "    print('The average test score is {}.'.format(average))\n",
    "    \n",
    "    for i in test_score:\n",
    "        print()\n",
    "        print(determine_grade(i))\n",
    "    \n",
    "        \n",
    "        \n",
    "def calc_average(a,b,c,d,e):\n",
    "    return (a+b+c+d+e)/5\n",
    "\n",
    "def determine_grade(grade):\n",
    "    if grade >= 90:\n",
    "        return \"Grade: A\"\n",
    "    elif grade >= 80 and grade <90:\n",
    "        return 'Grade: B'\n",
    "    elif grade >= 70 and grade <80:\n",
    "        return 'Grade: C'\n",
    "    else:\n",
    "        return 'Grade: F'\n",
    "main()\n",
    "    "
   ]
  },
  {
   "cell_type": "code",
   "execution_count": null,
   "metadata": {},
   "outputs": [],
   "source": [
    "# 7\n",
    "import random\n",
    "even_total = 0\n",
    "odd_total = 0\n",
    "for i in range(100):\n",
    "    rand_num = random.randint(1,101)\n",
    "    if rand_num%2 == 0:\n",
    "        even_total += 1\n",
    "    else:\n",
    "        odd_total += 1\n",
    "print('Even total is',even_total)\n",
    "print('Odd total is',odd_total)"
   ]
  },
  {
   "cell_type": "code",
   "execution_count": null,
   "metadata": {},
   "outputs": [],
   "source": [
    "# 8\n",
    "import math\n",
    "\n",
    "def is_prime(n):\n",
    "    \n",
    "    if n == 1:\n",
    "        return False\n",
    "    if n == 2:\n",
    "        return True\n",
    "    if n > 2 and n % 2 ==0:\n",
    "        return False\n",
    "    max_div = math.floor(math.sqrt(n)) \n",
    "    for i in range(3,max_div+1,2):\n",
    "        if n % i == 0:\n",
    "            return False\n",
    "    return True\n",
    "        "
   ]
  },
  {
   "cell_type": "code",
   "execution_count": null,
   "metadata": {},
   "outputs": [],
   "source": [
    "# 9\n",
    "primes = []\n",
    "for x in range(1,101):\n",
    "    if is_prime(x):\n",
    "        primes.append(x)\n",
    "print(len(primes), primes)"
   ]
  },
  {
   "cell_type": "code",
   "execution_count": null,
   "metadata": {},
   "outputs": [],
   "source": [
    "# 10\n",
    "\n",
    "p_value = float(input('Enter accounts current value: '))\n",
    "interest = float(input(\"Enter interest rate: \"))/100\n",
    "time = float(input('Enter number of months money will be left in account'))\n",
    "\n",
    "def future_rate(value,interest,time):\n",
    "    return value*(1+interest)**time\n",
    "\n",
    "print(future_rate(p_value,interest,time))"
   ]
  },
  {
   "cell_type": "code",
   "execution_count": 5,
   "metadata": {},
   "outputs": [
    {
     "name": "stdout",
     "output_type": "stream",
     "text": [
      "I'm thinking of a number from 1-100, guess what it is\n",
      "Enter an integer guess from 1-100: 2\n",
      "Debug, answer is 98\n",
      "That guess is too low, guess again: 8987\n",
      "That guess is too high, guess again: 98\n",
      "Congratulations that was the correct answer!\n",
      "It took you 2 guesses\n",
      "Would you like to play again y or n: y\n",
      "I'm thinking of a number from 1-100, guess what it is\n",
      "Enter an integer guess from 1-100: 25\n",
      "Debug, answer is 6\n",
      "That guess is too high, guess again: 6\n",
      "Congratulations that was the correct answer!\n",
      "It took you 1 guesses\n",
      "Would you like to play again y or n: n\n",
      "The game is complete\n"
     ]
    }
   ],
   "source": [
    "# 11\n",
    "\n",
    "import random\n",
    "play = 'y'\n",
    "while play =='y':\n",
    "    ans = random.randint(1,100)\n",
    "    print(\"I'm thinking of a number from 1-100, guess what it is\")\n",
    "    user = int(input('Enter an integer guess from 1-100: '))\n",
    "    print('Debug, answer is', ans)\n",
    "    guesses = 0\n",
    "    while user != ans:\n",
    "        if user > ans:\n",
    "            guesses += 1\n",
    "            user = float(input('That guess is too high, guess again: '))\n",
    "        elif user < ans:\n",
    "            guesses += 1\n",
    "            user = float(input('That guess is too low, guess again: '))\n",
    "    \n",
    "    \n",
    "    print('Congratulations that was the correct answer!')\n",
    "    print('It took you {} guesses'.format(guesses))\n",
    "    play = input('Would you like to play again y or n: ').lower()[0]\n",
    "print('The game is complete')"
   ]
  },
  {
   "cell_type": "code",
   "execution_count": 6,
   "metadata": {},
   "outputs": [],
   "source": [
    "# 12\n",
    "import random\n",
    "def main():\n",
    "    again = 'y'\n",
    "    \n",
    "    while again == 'y':\n",
    "    \n",
    "        comp = comp_choice()\n",
    "        user = input('Enter your choice of rock, paper, or sissors: ').capitalize()\n",
    "        print('The computer chose', comp, ',the player chose', user)\n",
    "        winner = determine_winner(comp,user)\n",
    "        print()\n",
    "        print(winner, 'is the winner')\n",
    "        again = input('Would you like to play again y or n: ').lower()[0]\n",
    "        \n",
    "    print('The game is complete.')\n",
    "def comp_choice():\n",
    "    choice = random.randint(1,4)\n",
    "    if choice == 1:\n",
    "        return 'Rock'\n",
    "    elif choice == 2:\n",
    "        return 'Paper'\n",
    "    else:\n",
    "        return 'Sissors'\n",
    "    \n",
    "def determine_winner(C,U):\n",
    "    if C == 'Rock' and U == 'Sissors':\n",
    "        return 'Computer'\n",
    "    elif C == 'Sissors' and U == 'Paper':\n",
    "        return 'Computer'\n",
    "    elif C == 'Paper' and U == 'Rock':\n",
    "        return 'Computer'\n",
    "    elif C == 'Rock' and U == 'Paper':\n",
    "        return 'Player'\n",
    "    elif C == 'Paper' and U == 'Sissors':\n",
    "        return 'Player'\n",
    "    elif C == 'Sissors' and U == 'Rock':\n",
    "        return 'Player'\n",
    "    elif C == U:\n",
    "        return 'Computer and Player'"
   ]
  },
  {
   "cell_type": "code",
   "execution_count": null,
   "metadata": {},
   "outputs": [
    {
     "name": "stdout",
     "output_type": "stream",
     "text": [
      "Enter your choice of rock, paper, or sissors: paper\n",
      "The computer chose Sissors ,the player chose Paper\n",
      "\n",
      "Computer is the winner\n",
      "Would you like to play again y or n: y\n",
      "Enter your choice of rock, paper, or sissors: paper\n",
      "The computer chose Sissors ,the player chose Paper\n",
      "\n",
      "Computer is the winner\n",
      "Would you like to play again y or n: y\n",
      "Enter your choice of rock, paper, or sissors: paper\n",
      "The computer chose Rock ,the player chose Paper\n",
      "\n",
      "Player is the winner\n",
      "Would you like to play again y or n: y\n",
      "Enter your choice of rock, paper, or sissors: paper\n",
      "The computer chose Paper ,the player chose Paper\n",
      "\n",
      "Computer and Player is the winner\n",
      "Would you like to play again y or n: y\n",
      "Enter your choice of rock, paper, or sissors: rock\n",
      "The computer chose Sissors ,the player chose Rock\n",
      "\n",
      "Player is the winner\n"
     ]
    }
   ],
   "source": [
    "main()"
   ]
  },
  {
   "cell_type": "code",
   "execution_count": null,
   "metadata": {},
   "outputs": [],
   "source": []
  }
 ],
 "metadata": {
  "kernelspec": {
   "display_name": "Python 3",
   "language": "python",
   "name": "python3"
  },
  "language_info": {
   "codemirror_mode": {
    "name": "ipython",
    "version": 3
   },
   "file_extension": ".py",
   "mimetype": "text/x-python",
   "name": "python",
   "nbconvert_exporter": "python",
   "pygments_lexer": "ipython3",
   "version": "3.6.5"
  }
 },
 "nbformat": 4,
 "nbformat_minor": 2
}
