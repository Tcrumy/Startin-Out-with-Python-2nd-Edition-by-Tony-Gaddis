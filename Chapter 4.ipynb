{
 "cells": [
  {
   "cell_type": "code",
   "execution_count": null,
   "metadata": {},
   "outputs": [],
   "source": [
    "num = int(input('Entere a number 1-10: '))\n",
    "\n",
    "if num == 1:\n",
    "    print('I')\n",
    "elif num == 2:\n",
    "    print('II')\n",
    "elif num == 3:\n",
    "    print('III')\n",
    "elif num == 4:\n",
    "    print('IV')\n",
    "elif num == 5:\n",
    "    print('V')\n",
    "elif num == 6:\n",
    "    print('VI')\n",
    "elif num == 7:\n",
    "    print('VII')\n",
    "elif num == 8:\n",
    "    print('VIII')\n",
    "elif num == 9:\n",
    "    print('IX')\n",
    "elif num == 10:\n",
    "    print('X')\n",
    "else:\n",
    "    print('Number out of range')\n",
    "                "
   ]
  },
  {
   "cell_type": "code",
   "execution_count": null,
   "metadata": {},
   "outputs": [],
   "source": [
    "L_1 = float(input('Enter the length of the first rectangle: '))\n",
    "W_1 = float(input('Enter the width of the first rectangle: '))\n",
    "L_2 = float(input('Enter the length of the second rectangle: '))\n",
    "W_2 = float(input('Enter the width of the second rectangle: '))\n",
    "\n",
    "rec_1 = float(L_1*W_1)\n",
    "rec_2 = float(L_2*W_2)\n",
    "\n",
    "if rec_1 > rec_2:\n",
    "    print(f'Rectangle number one is bigger at {rec_1} units vs rectangle two at {rec_2} units.')\n",
    "elif rec_1 < rec_2:\n",
    "    print(f'Rectangle number two is bigger at {rec_2} units vs rectangle one at {rec_1} units.')\n",
    "else:\n",
    "    print('The rectangles are equal')"
   ]
  },
  {
   "cell_type": "code",
   "execution_count": null,
   "metadata": {},
   "outputs": [],
   "source": [
    "weight = float(input('Enter weight in kg: ')) * 9.8\n",
    "\n",
    "newton = float(weight)\n",
    "\n",
    "if newton > 1000:\n",
    "    print(\"That's too heavy\")\n",
    "elif newton < 10:\n",
    "    print(\"That's too light\")\n",
    "else:\n",
    "    print(newton)"
   ]
  },
  {
   "cell_type": "code",
   "execution_count": null,
   "metadata": {},
   "outputs": [],
   "source": [
    "month = int(input(\"Enter a month using digits 1-12: \"))\n",
    "day = int(input(\"Enter a day of the month using digits 1-31: \"))\n",
    "year = int(input('Enter a two digit year: '))\n",
    "\n",
    "def magic_date(month,day,year):\n",
    "    if month*day == year:\n",
    "        print(\"This date is magical\")\n",
    "    else:\n",
    "        print(\"This date is not magical\")\n",
    "magic_date(month,day,year)\n",
    "        "
   ]
  },
  {
   "cell_type": "code",
   "execution_count": null,
   "metadata": {},
   "outputs": [],
   "source": [
    "color_1 = input('Enter one primary color eg.(red,blue,yellow): ').lower()\n",
    "color_2 = input('Enter a second primary color eg.(red,blue,yellow): ').lower()\n",
    "\n",
    "\n",
    "if color_1 == 'red' and color_2 == 'yellow' or (color_2 == 'red' and color_1 == \"yellow\"):\n",
    "    print('That makes orange.')\n",
    "elif color_1 == 'red' and color_2 == 'blue' or (color_1 == 'blue' and color_2 == \"red\") :\n",
    "    print('That makes violet.')\n",
    "elif (color_1 == 'blue' and color_2 == 'yellow') or (color_2 == 'blue' and color_1 == \"yellow\"):\n",
    "    print('That makes green.')\n",
    "else:\n",
    "    print('That is not a primary color combination.')"
   ]
  },
  {
   "cell_type": "code",
   "execution_count": 6,
   "metadata": {},
   "outputs": [
    {
     "name": "stdout",
     "output_type": "stream",
     "text": [
      "Enter a quatity of each coin such that when they are all summed, they will equal one dollar.\n",
      "Enter quantity of pennies: 50\n",
      "Enter quantity of nickels: 1\n",
      "Enter quantity of dimes: 2\n",
      "Enter quantity of quaters: 0\n",
      "That is less than one dollar\n"
     ]
    }
   ],
   "source": [
    "print(\"Enter a quatity of each coin such that when they are all summed, they will equal one dollar.\")\n",
    "pennies = int(input('Enter quantity of pennies: ')) * 1\n",
    "nickels =int(input('Enter quantity of nickels: ')) * 5\n",
    "dimes = int(input('Enter quantity of dimes: ')) * 10\n",
    "quaters = int(input('Enter quantity of quaters: ')) * 25\n",
    "\n",
    "def is_dollar(pennies,nickels,dimes,quaters):\n",
    "    if (pennies + nickels + dimes + quaters) == 100:\n",
    "        print('Congragulations! You have won the game')\n",
    "    elif (pennies + nickels + dimes + quaters) > 100:\n",
    "        print('That is more than one dollar')\n",
    "    elif (pennies + nickels + dimes + quaters) < 100:\n",
    "        print('That is less than one dollar')    \n",
    "is_dollar(pennies,nickels,dimes,quaters)"
   ]
  },
  {
   "cell_type": "code",
   "execution_count": 7,
   "metadata": {},
   "outputs": [],
   "source": [
    "def book_points():\n",
    "    books = int(input('Enter the quantity of books you like to purchase. Use digits only: '))\n",
    "    \n",
    "    if books == 0:\n",
    "        print('You have earned 0 points with this purchase')\n",
    "    elif books == 1:\n",
    "        print('You have earned 5 points with this purchase')\n",
    "    elif books == 2:\n",
    "        print('You have earned 15 points with this purchase')\n",
    "    elif books == 3:\n",
    "        print('You have earned 30 points with this purchase')\n",
    "    elif books >= 4:\n",
    "        print('You have earned 60 points with this purchase')\n",
    "    else:\n",
    "        print('That is not a sufficient quantity.')"
   ]
  },
  {
   "cell_type": "code",
   "execution_count": 14,
   "metadata": {},
   "outputs": [],
   "source": [
    "def sales_discount():\n",
    "    quantity = int(input(\"Enter the quantity of packages you would like to puchase: \"))\n",
    "    if quantity <= 0:\n",
    "        print('That is not a sufficient amount')\n",
    "    elif quantity > 0 and quantity <10:\n",
    "        print(\"No discount will be applied.\")\n",
    "    elif quantity >=10 and quantity <= 19:\n",
    "        print(f'Quantity of {quantity} will be discounted by 20% for a total cost of ${format(quantity * 99 * .8,\".2f\")}.')\n",
    "    elif quantity >=20 and quantity <= 49:\n",
    "        print(f'Quantity of {quantity} will be discounted by 30% for a total cost of ${format(quantity * 99 * .7,\".2f\")}.')\n",
    "    elif quantity >=50 and quantity <= 99:\n",
    "        print(f'Quantity of {quantity} will be discounted by 40% for a total cost of ${format(quantity * 99 * .6,\".2f\")}.')\n",
    "    else:\n",
    "        print(f'Quantity of {quantity} will be discounted by 50% for a total cost of ${format(quantity * 99 * .5,\".2f\")}.')\n",
    "        "
   ]
  },
  {
   "cell_type": "code",
   "execution_count": 15,
   "metadata": {},
   "outputs": [
    {
     "name": "stdout",
     "output_type": "stream",
     "text": [
      "Enter the quantity of packages you would like to puchase: 58\n",
      "Quantity of 58 will be discounted by 40% for a total cost of $3445.20.\n"
     ]
    }
   ],
   "source": [
    "sales_discount()"
   ]
  },
  {
   "cell_type": "code",
   "execution_count": 5,
   "metadata": {},
   "outputs": [
    {
     "name": "stdout",
     "output_type": "stream",
     "text": [
      "Enter your weight in lbs: 170\n",
      "Enter your height in inches: 68\n",
      "Your BMI is  25.845588235294116 .\n",
      "You are overweight.\n"
     ]
    }
   ],
   "source": [
    "def bmi():\n",
    "    weight = float(input('Enter your weight in lbs: '))\n",
    "    height = float(input('Enter your height in inches: '))\n",
    "    BMI = weight *703/height**2\n",
    "    \n",
    "    if BMI < 18.5:\n",
    "        print('Your BMI is ',BMI,'.')\n",
    "        print('You are underweight.')\n",
    "    elif BMI >= 18.5 and BMI <=25:\n",
    "        print('Your BMI is ',BMI, '.')\n",
    "        print('You are the correct weight for your height.')\n",
    "    else:\n",
    "        print('Your BMI is ',BMI,'.')\n",
    "        print('You are overweight.')\n",
    "bmi()''"
   ]
  },
  {
   "cell_type": "code",
   "execution_count": 11,
   "metadata": {},
   "outputs": [
    {
     "name": "stdout",
     "output_type": "stream",
     "text": [
      "Enter shipping weight: 20\n",
      "Your shipping cost is $ 76.00 .\n"
     ]
    }
   ],
   "source": [
    "def shipping():\n",
    "    weight = float(input('Enter shipping weight: '))\n",
    "    \n",
    "    if weight <= 2:\n",
    "        cost = weight*1.1\n",
    "        print('Your shipping cost is $',format(cost,\".2f\"), '.')\n",
    "    elif weight >2 and weight <=6:\n",
    "        cost = weight*2.2\n",
    "        print('Your shipping cost is $',format(cost,\".2f\"), '.')\n",
    "    elif weight >6 and weight <=10:\n",
    "        cost = weight * 3.7\n",
    "        print('Your shipping cost is $',format(cost,\".2f\"), '.')\n",
    "    else:\n",
    "        cost = weight * 3.8\n",
    "        print('Your shipping cost is $',format(cost,\".2f\"), '.')\n",
    "shipping()"
   ]
  },
  {
   "cell_type": "code",
   "execution_count": 32,
   "metadata": {},
   "outputs": [
    {
     "name": "stdout",
     "output_type": "stream",
     "text": [
      "Enter a number to represent seconds: 97000\n",
      "97000 seconds is 1.1226851851851851 days.\n"
     ]
    }
   ],
   "source": [
    "def seconds():\n",
    "    seconds = input('Enter a number to represent seconds: ')\n",
    "    return seconds\n",
    "seconds = seconds()\n",
    "\n",
    "if int(seconds) >= 86400:\n",
    "    print( seconds, 'seconds is',float(seconds)/86400, 'days.' )\n",
    "elif int(seconds) >= 3600:\n",
    "    print(seconds, 'seconds is',float(seconds)/3600, 'hours.')\n",
    "elif int(seconds) >= 60:\n",
    "    print(seconds, 'seconds is',float(seconds)/60, 'minutes.')\n",
    "else:\n",
    "    print(seconds, 'seconds is', seconds , 'seconds.')"
   ]
  },
  {
   "cell_type": "code",
   "execution_count": null,
   "metadata": {},
   "outputs": [],
   "source": []
  }
 ],
 "metadata": {
  "kernelspec": {
   "display_name": "Python 3",
   "language": "python",
   "name": "python3"
  },
  "language_info": {
   "codemirror_mode": {
    "name": "ipython",
    "version": 3
   },
   "file_extension": ".py",
   "mimetype": "text/x-python",
   "name": "python",
   "nbconvert_exporter": "python",
   "pygments_lexer": "ipython3",
   "version": "3.6.5"
  }
 },
 "nbformat": 4,
 "nbformat_minor": 2
}
