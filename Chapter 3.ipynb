{
 "cells": [
  {
   "cell_type": "code",
   "execution_count": 54,
   "metadata": {},
   "outputs": [],
   "source": [
    "def main():\n",
    "    property_tax()\n",
    "def property_tax():\n",
    "    value = float(input('Enter property value:'))\n",
    "    ass_value = value * .6\n",
    "    tax = format(ass_value*.0064,\".2f\")\n",
    "    print(f'Your assessed value is ${format(ass_value,\".2f\")}.')\n",
    "    print(f'Your tax is ${tax}.')"
   ]
  },
  {
   "cell_type": "code",
   "execution_count": 55,
   "metadata": {},
   "outputs": [
    {
     "name": "stdout",
     "output_type": "stream",
     "text": [
      "Enter property value:10000\n",
      "Your assessed value is $6000.00.\n",
      "Your tax is $38.40.\n"
     ]
    }
   ],
   "source": [
    "main()"
   ]
  },
  {
   "cell_type": "code",
   "execution_count": 52,
   "metadata": {},
   "outputs": [
    {
     "name": "stdout",
     "output_type": "stream",
     "text": [
      "Enter price of item: 4589.30\n",
      "Your item price is $4589.30.\n",
      "The tax is $275.36.\n",
      "The total price is $4864.66.\n"
     ]
    }
   ],
   "source": [
    "def tax_calculator():\n",
    "    item_price = float(input('Enter price of item: '))\n",
    "    tax = float(item_price * .06)\n",
    "    total_price = tax + item_price\n",
    "    print(f'Your item price is ${format(item_price,\".2f\")}.')\n",
    "    print(f'The tax is ${format(tax,\".2f\")}.')\n",
    "    print(f'The total price is ${format(total_price,\".2f\")}.')\n",
    "tax_calculator()"
   ]
  },
  {
   "cell_type": "code",
   "execution_count": 60,
   "metadata": {},
   "outputs": [],
   "source": [
    "def bmi_calculator():\n",
    "    weight = float(input('Enter weight: '))\n",
    "    height = float(input('Enter height in inches: '))\n",
    "    print(f'Your BMI is {format(weight * (703/height**2),\".2f\")}.')"
   ]
  },
  {
   "cell_type": "code",
   "execution_count": 63,
   "metadata": {},
   "outputs": [
    {
     "name": "stdout",
     "output_type": "stream",
     "text": [
      "Enter weight: 183\n",
      "Enter height in inches: 68\n",
      "Your BMI is 27.82.\n"
     ]
    }
   ],
   "source": [
    "bmi_calculator()"
   ]
  },
  {
   "cell_type": "code",
   "execution_count": 66,
   "metadata": {},
   "outputs": [
    {
     "name": "stdout",
     "output_type": "stream",
     "text": [
      "Enter grams of fat: 15\n",
      "Enter grams of carbs: 15\n",
      "Your daily fat calories are 60.0.\n",
      "Your daily carb calories are 60.0.\n"
     ]
    }
   ],
   "source": [
    "def calorie_count():\n",
    "    fat_grams = float(input('Enter grams of fat: '))\n",
    "    carb_grams = float(input('Enter grams of carbs: '))\n",
    "    cals_from_fat = fat_grams * 4\n",
    "    cals_from_carbs = carb_grams * 4\n",
    "    print(f'Your daily fat calories are {cals_from_fat}.')\n",
    "    print('Your daily carb calories are {}.'.format(cals_from_carbs))\n",
    "calorie_count()\n",
    "    "
   ]
  },
  {
   "cell_type": "code",
   "execution_count": 71,
   "metadata": {},
   "outputs": [],
   "source": [
    "def stadium_income():\n",
    "    class_a = int(input('Enter how many class A tickets were sold: '))\n",
    "    class_b = int(input('Enter how many class B tickets were sold: '))\n",
    "    class_c = int(input('Enter how many class C tickets were sold: '))\n",
    "    class_a_income = class_a * 15\n",
    "    class_b_income = class_b * 12\n",
    "    class_c_income = class_c * 9\n",
    "    print('Your total income generated is ${}'.format(class_a_income + class_b_income + class_c_income))"
   ]
  },
  {
   "cell_type": "code",
   "execution_count": 72,
   "metadata": {},
   "outputs": [
    {
     "name": "stdout",
     "output_type": "stream",
     "text": [
      "Enter how many class A tickets were sold: 10\n",
      "Enter how many class B tickets were sold: 10\n",
      "Enter how many class C tickets were sold: 10\n",
      "Your total income generated is $360\n"
     ]
    }
   ],
   "source": [
    "stadium_income()"
   ]
  },
  {
   "cell_type": "code",
   "execution_count": 7,
   "metadata": {},
   "outputs": [],
   "source": [
    "def paint_job():\n",
    "    sqft = float(input('How many sqft of wall space: '))\n",
    "    gallons = sqft /115\n",
    "    hours = gallons * 8\n",
    "    hourly = 20\n",
    "    paint_cost = 30\n",
    "    print('Your room will need {} gallons of paint.'.format(gallons))\n",
    "    print(f'This job will take {hours} labor hours to complete.')\n",
    "    print(f'The materials cost will be ${format(gallons * paint_cost,\".2f\")}.')\n",
    "    print(f'The labor cost will be ${format(hours*hourly,\".2f\")}.')\n",
    "    print(f'The total cost to paint this room will be ${format(gallons * paint_cost + hours * hourly,\".2f\")}.')"
   ]
  },
  {
   "cell_type": "code",
   "execution_count": 8,
   "metadata": {},
   "outputs": [
    {
     "name": "stdout",
     "output_type": "stream",
     "text": [
      "How many sqft of wall space: 315\n",
      "Your room will need 2.739130434782609 gallons of paint.\n",
      "This job will take 21.91304347826087 labor hours to complete.\n",
      "The materials cost will be $82.17.\n",
      "The labor cost will be $438.26.\n",
      "The total cost to paint this room will be $520.43.\n"
     ]
    }
   ],
   "source": [
    "paint_job()"
   ]
  },
  {
   "cell_type": "code",
   "execution_count": 11,
   "metadata": {},
   "outputs": [],
   "source": [
    "import random\n",
    "def guess():\n",
    "    ans = random.randint(1,10)\n",
    "    guess = ''\n",
    "    guesses = []\n",
    "    while guess != ans and len(guesses)<3:\n",
    "        guess = int(input('Enter a guess 1-10: '))\n",
    "        guesses.append(guess)\n",
    "    if len(guesses) >=3:\n",
    "        print('You are out of guesses.')\n",
    "    else:\n",
    "        print('You guesses correctly')"
   ]
  },
  {
   "cell_type": "code",
   "execution_count": 18,
   "metadata": {},
   "outputs": [
    {
     "name": "stdout",
     "output_type": "stream",
     "text": [
      "Enter a guess 1-10: 4\n",
      "Enter a guess 1-10: 5\n",
      "Enter a guess 1-10: 6\n",
      "You are out of guesses.\n"
     ]
    }
   ],
   "source": [
    "guess()"
   ]
  },
  {
   "cell_type": "code",
   "execution_count": 1,
   "metadata": {},
   "outputs": [],
   "source": [
    "from datetime import date\n",
    "myVar1 = True\n",
    "myVar2 = date.today()\n",
    "myVar3 = myVar2.day\n",
    "myVar4 = 0.5"
   ]
  },
  {
   "cell_type": "code",
   "execution_count": 2,
   "metadata": {},
   "outputs": [
    {
     "data": {
      "text/plain": [
       "int"
      ]
     },
     "execution_count": 2,
     "metadata": {},
     "output_type": "execute_result"
    }
   ],
   "source": [
    "type(myVar2)\n",
    "type(myVar3)"
   ]
  },
  {
   "cell_type": "code",
   "execution_count": 3,
   "metadata": {},
   "outputs": [
    {
     "name": "stdout",
     "output_type": "stream",
     "text": [
      "True\n"
     ]
    }
   ],
   "source": [
    "myString1 = \"2\"\n",
    "myString2 = \"-9.1\"\n",
    "myString3 = \"Hello!\"\n",
    "\n",
    "print(bool(myString2))"
   ]
  },
  {
   "cell_type": "code",
   "execution_count": 4,
   "metadata": {},
   "outputs": [
    {
     "ename": "ValueError",
     "evalue": "invalid literal for int() with base 10: '-9.1'",
     "output_type": "error",
     "traceback": [
      "\u001b[1;31m---------------------------------------------------------------------------\u001b[0m",
      "\u001b[1;31mValueError\u001b[0m                                Traceback (most recent call last)",
      "\u001b[1;32m<ipython-input-4-37bc850cbe84>\u001b[0m in \u001b[0;36m<module>\u001b[1;34m()\u001b[0m\n\u001b[1;32m----> 1\u001b[1;33m \u001b[0mint\u001b[0m\u001b[1;33m(\u001b[0m\u001b[0mmyString2\u001b[0m\u001b[1;33m)\u001b[0m\u001b[1;33m\u001b[0m\u001b[0m\n\u001b[0m",
      "\u001b[1;31mValueError\u001b[0m: invalid literal for int() with base 10: '-9.1'"
     ]
    }
   ],
   "source": [
    "int(myString2)"
   ]
  },
  {
   "cell_type": "code",
   "execution_count": 8,
   "metadata": {},
   "outputs": [
    {
     "name": "stdout",
     "output_type": "stream",
     "text": [
      "Enter a number: \n",
      "Your original input: \n"
     ]
    },
    {
     "ename": "ValueError",
     "evalue": "could not convert string to float: ",
     "output_type": "error",
     "traceback": [
      "\u001b[1;31m---------------------------------------------------------------------------\u001b[0m",
      "\u001b[1;31mValueError\u001b[0m                                Traceback (most recent call last)",
      "\u001b[1;32m<ipython-input-8-e1eaece84f35>\u001b[0m in \u001b[0;36m<module>\u001b[1;34m()\u001b[0m\n\u001b[0;32m      1\u001b[0m \u001b[0muserInput\u001b[0m \u001b[1;33m=\u001b[0m \u001b[0minput\u001b[0m\u001b[1;33m(\u001b[0m\u001b[1;34m\"Enter a number: \"\u001b[0m\u001b[1;33m)\u001b[0m\u001b[1;33m\u001b[0m\u001b[0m\n\u001b[0;32m      2\u001b[0m \u001b[0mprint\u001b[0m\u001b[1;33m(\u001b[0m\u001b[1;34m\"Your original input: \"\u001b[0m \u001b[1;33m+\u001b[0m \u001b[0muserInput\u001b[0m\u001b[1;33m)\u001b[0m\u001b[1;33m\u001b[0m\u001b[0m\n\u001b[1;32m----> 3\u001b[1;33m \u001b[0muserInputAsFloat\u001b[0m \u001b[1;33m=\u001b[0m \u001b[0mfloat\u001b[0m\u001b[1;33m(\u001b[0m\u001b[0muserInput\u001b[0m\u001b[1;33m)\u001b[0m\u001b[1;33m\u001b[0m\u001b[0m\n\u001b[0m\u001b[0;32m      4\u001b[0m \u001b[0mprint\u001b[0m\u001b[1;33m(\u001b[0m\u001b[1;34m\"Your input as a float:\"\u001b[0m\u001b[1;33m,\u001b[0m \u001b[0muserInputAsFloat\u001b[0m\u001b[1;33m)\u001b[0m\u001b[1;33m\u001b[0m\u001b[0m\n\u001b[0;32m      5\u001b[0m \u001b[0muserInputAsInt\u001b[0m \u001b[1;33m=\u001b[0m \u001b[0mint\u001b[0m\u001b[1;33m(\u001b[0m\u001b[0muserInput\u001b[0m\u001b[1;33m)\u001b[0m\u001b[1;33m\u001b[0m\u001b[0m\n",
      "\u001b[1;31mValueError\u001b[0m: could not convert string to float: "
     ]
    }
   ],
   "source": [
    "userInput = input(\"Enter a number: \")\n",
    "print(\"Your original input: \" + userInput)\n",
    "userInputAsFloat = float(userInput)\n",
    "print(\"Your input as a float:\", userInputAsFloat)\n",
    "userInputAsInt = int(userInput)\n",
    "print(\"Your input as an integer:\", userInputAsInt)"
   ]
  },
  {
   "cell_type": "code",
   "execution_count": 9,
   "metadata": {},
   "outputs": [
    {
     "name": "stdout",
     "output_type": "stream",
     "text": [
      "5\n"
     ]
    }
   ],
   "source": [
    "int = 5\n",
    "print(int)"
   ]
  },
  {
   "cell_type": "code",
   "execution_count": 10,
   "metadata": {},
   "outputs": [
    {
     "ename": "TypeError",
     "evalue": "'float' object is not callable",
     "output_type": "error",
     "traceback": [
      "\u001b[1;31m---------------------------------------------------------------------------\u001b[0m",
      "\u001b[1;31mTypeError\u001b[0m                                 Traceback (most recent call last)",
      "\u001b[1;32m<ipython-input-10-85073224264e>\u001b[0m in \u001b[0;36m<module>\u001b[1;34m()\u001b[0m\n\u001b[0;32m      1\u001b[0m \u001b[0mfloat\u001b[0m \u001b[1;33m=\u001b[0m \u001b[1;36m5.1\u001b[0m\u001b[1;33m\u001b[0m\u001b[0m\n\u001b[1;32m----> 2\u001b[1;33m \u001b[0mfloat\u001b[0m\u001b[1;33m(\u001b[0m\u001b[0mfloat\u001b[0m\u001b[1;33m)\u001b[0m\u001b[1;33m\u001b[0m\u001b[0m\n\u001b[0m\u001b[0;32m      3\u001b[0m \u001b[0mprint\u001b[0m\u001b[1;33m(\u001b[0m\u001b[0mfloat\u001b[0m\u001b[1;33m)\u001b[0m\u001b[1;33m\u001b[0m\u001b[0m\n",
      "\u001b[1;31mTypeError\u001b[0m: 'float' object is not callable"
     ]
    }
   ],
   "source": [
    "float = 5.1\n",
    "float(float)\n",
    "print(float)"
   ]
  },
  {
   "cell_type": "code",
   "execution_count": null,
   "metadata": {},
   "outputs": [],
   "source": [
    "continue = '5'\n",
    "continueas"
   ]
  }
 ],
 "metadata": {
  "kernelspec": {
   "display_name": "Python 3",
   "language": "python",
   "name": "python3"
  },
  "language_info": {
   "codemirror_mode": {
    "name": "ipython",
    "version": 3
   },
   "file_extension": ".py",
   "mimetype": "text/x-python",
   "name": "python",
   "nbconvert_exporter": "python",
   "pygments_lexer": "ipython3",
   "version": "3.6.5"
  }
 },
 "nbformat": 4,
 "nbformat_minor": 2
}
