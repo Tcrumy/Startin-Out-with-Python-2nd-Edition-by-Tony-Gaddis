{
 "cells": [
  {
   "cell_type": "code",
   "execution_count": null,
   "metadata": {},
   "outputs": [],
   "source": [
    "def gets_total():\n",
    "    \n",
    "    lst =[]\n",
    "    total = 0\n",
    "    again = 'y'\n",
    "    while again == 'y':\n",
    "        sale = float(input(\"Enter sale total: \"))\n",
    "        lst.append(sale)\n",
    "        again = input('Do you need to input another sale (y or n)?').lower()\n",
    "    for i in lst:\n",
    "        total+=i\n",
    "    print('Total sales is $',format(total,\".2f\"),sep='')\n",
    "    "
   ]
  },
  {
   "cell_type": "code",
   "execution_count": null,
   "metadata": {},
   "outputs": [],
   "source": [
    "num = float(input('Enter a number less than 100: '))\n",
    "\n",
    "while num < 100:\n",
    "    num *= 10\n",
    "    \n",
    "print(num)"
   ]
  },
  {
   "cell_type": "code",
   "execution_count": null,
   "metadata": {},
   "outputs": [],
   "source": [
    "add = 'Y'\n",
    "\n",
    "while add == 'Y':\n",
    "    num_1 = float(input('Enter a number: '))\n",
    "    num_2 = float(input('Enter a second number: '))\n",
    "    print(num_1 + num_2)\n",
    "    add = input('Would you like to add again (y or n)? ').upper()\n",
    "    \n",
    "print('Program is complete')\n",
    "\n",
    "\n"
   ]
  },
  {
   "cell_type": "code",
   "execution_count": null,
   "metadata": {},
   "outputs": [],
   "source": [
    "for i in range(0,10,10):\n",
    "    print(i)"
   ]
  },
  {
   "cell_type": "code",
   "execution_count": null,
   "metadata": {},
   "outputs": [],
   "source": [
    "[i for i in range(0,101,10)]\n"
   ]
  },
  {
   "cell_type": "code",
   "execution_count": null,
   "metadata": {},
   "outputs": [],
   "source": [
    "total = 0\n",
    "\n",
    "for i in range(10):\n",
    "    num = float(input('Enter a number: '))\n",
    "    total += num\n",
    "print(total)"
   ]
  },
  {
   "cell_type": "code",
   "execution_count": null,
   "metadata": {},
   "outputs": [],
   "source": [
    "lst = [1/30,2/29,3/28,4/27,5/26,6/25,7/24,8/23,9/22,10/21,11/20,12/19,13/18,14/17,15/16,16/15,17/14,18/13,19/12,20/11,21/10,22/9,23/8,24/7,25/6,26/5,27/4,28/3,29/2,30/1]\n",
    "total = 0\n",
    "for i in lst:\n",
    "    total+=i\n",
    "print(total)"
   ]
  },
  {
   "cell_type": "code",
   "execution_count": null,
   "metadata": {},
   "outputs": [],
   "source": [
    "num_1 = 1\n",
    "num_2 = 30\n",
    "total = 0\n",
    "while num_1 < 31:\n",
    "    num = num_1/num_2\n",
    "    num_1 += 1\n",
    "    num_2 -= 1\n",
    "    total += num\n",
    "\n",
    "print(total)\n",
    "    "
   ]
  },
  {
   "cell_type": "code",
   "execution_count": null,
   "metadata": {},
   "outputs": [],
   "source": [
    "num_1 = 1\n",
    "num_2 = 30\n",
    "total = 0\n",
    "for i in range(30):\n",
    "    num = num_1/num_2\n",
    "    num_1 += 1\n",
    "    num_2 -= 1\n",
    "    total += num\n",
    "\n",
    "print(total)\n",
    "    "
   ]
  },
  {
   "cell_type": "code",
   "execution_count": null,
   "metadata": {},
   "outputs": [],
   "source": [
    "num_1 = 1\n",
    "num_2 = 1\n",
    "total = 0\n",
    "for i in range(53):\n",
    "    num = num_1/num_2\n",
    "    num_2 *= 2\n",
    "    total += num\n",
    "\n",
    "print(total)\n",
    "    "
   ]
  },
  {
   "cell_type": "code",
   "execution_count": null,
   "metadata": {},
   "outputs": [],
   "source": [
    "num_1 = 1\n",
    "num_2 = 30\n",
    "lst = []\n",
    "for i in range(30):\n",
    "    num = num_1/num_2\n",
    "    num_1 += 1\n",
    "    num_2 -= 1\n",
    "    lst.append(num)\n",
    "sum(lst)\n",
    "    "
   ]
  },
  {
   "cell_type": "code",
   "execution_count": null,
   "metadata": {},
   "outputs": [],
   "source": [
    "for i in range(10):\n",
    "    for h in range(15):\n",
    "        print('#',end='')\n",
    "    print()\n",
    "    \n",
    "    \n"
   ]
  },
  {
   "cell_type": "code",
   "execution_count": null,
   "metadata": {},
   "outputs": [],
   "source": [
    "num = float(input('Enter non zero number: '))\n",
    "\n",
    "while num == 0:\n",
    "    num = float(input('Zero is a non valid number. Please enter a non zero number: '))\n",
    "print('The number {} is valid.'.format(num))"
   ]
  },
  {
   "cell_type": "code",
   "execution_count": null,
   "metadata": {},
   "outputs": [],
   "source": [
    "num = float(input('Enter a number 1-100: '))\n",
    "\n",
    "while num <1 or num >100:\n",
    "    num = float(input('That is a non valid number. Please enter a  number 1-100: '))\n",
    "print('The number {} is valid.'.format(num))"
   ]
  },
  {
   "cell_type": "code",
   "execution_count": null,
   "metadata": {},
   "outputs": [],
   "source": [
    "total = 0\n",
    "\n",
    "for i in range(7):\n",
    "    bugs = int(input('How many bugs collected?: '))\n",
    "    total += bugs\n",
    "print('Total bugs collected in 7 days is {}.'.format(total))\n",
    "    "
   ]
  },
  {
   "cell_type": "code",
   "execution_count": null,
   "metadata": {},
   "outputs": [],
   "source": [
    "calorie_factor = 3.9\n",
    "\n",
    "for i in range(10,31,5):\n",
    "    burned = i*calorie_factor\n",
    "    print('Your calories burned at {} minutes is {}'.format(i,burned))"
   ]
  },
  {
   "cell_type": "code",
   "execution_count": null,
   "metadata": {},
   "outputs": [],
   "source": [
    "user_budget = float(input('Enter your total budget: '))\n",
    "\n",
    "again = 'y'\n",
    "\n",
    "while again == \"y\":\n",
    "    expense = float(input('Enter expense: '))\n",
    "    user_budget -= expense\n",
    "    again = input('Do you have another expense to enter?(y or n): ').lower()\n",
    "if user_budget < 0:\n",
    "    print('You are over budget by $', abs(user_budget),'.', sep = '')\n",
    "else:\n",
    "    print('You are under budget by ${}'.format(user_budget))\n",
    "    \n",
    "    "
   ]
  },
  {
   "cell_type": "code",
   "execution_count": null,
   "metadata": {},
   "outputs": [],
   "source": [
    "speed = int(input('Enter vehicle speed: '))\n",
    "hours = int(input('Enter how many hours traveled: '))\n",
    "print()\n",
    "print(\"Hour\\tDistance\")\n",
    "print('----------------')\n",
    "for hour in range(1,hours+1):\n",
    "    distance = speed * hour\n",
    "    print(hour,'\\t',distance)\n",
    "print()\n",
    "print(\"Table is complete.\")\n",
    "    \n",
    "\n"
   ]
  },
  {
   "cell_type": "code",
   "execution_count": null,
   "metadata": {},
   "outputs": [],
   "source": [
    "years = int(input(\"How many years will the data cover?: \"))\n",
    "total = 0\n",
    "for year in range(years):\n",
    "    for month in ['Jan','Feb','Mar','Apr','May','Jun','Jul','Aug','Sep','Oct','Nov','Dec']:\n",
    "        rain= float(input(f'How much rain in {month}?: '))\n",
    "        total += rain\n",
    "print()\n",
    "print('Data collected for', years*12,'months.')\n",
    "print()\n",
    "print('Total rainfall in {} months was {} inches.'.format(years*12,total))\n",
    "print()\n",
    "print('Average rainfall per month was {} inches.'.format(total/(years*12)))\n",
    "        "
   ]
  },
  {
   "cell_type": "code",
   "execution_count": null,
   "metadata": {},
   "outputs": [],
   "source": [
    "print('Celcius\\tFarenheit')\n",
    "print('-----------------')\n",
    "\n",
    "for celcius in range(20):\n",
    "    print(celcius,'\\t',format((9/5)*celcius+32,\".2f\"))"
   ]
  },
  {
   "cell_type": "code",
   "execution_count": null,
   "metadata": {},
   "outputs": [],
   "source": [
    "days = int(input('Enter number of days worked: '))\n",
    "pay = 1\n",
    "total = 0\n",
    "print('Day\\tPennies')\n",
    "print('----------------')\n",
    "for day in range(1,days+1):\n",
    "    print(day,'\\t',pay)\n",
    "    total += pay\n",
    "    pay*=2\n",
    "print('\\nYour pay would be $',(total)/100,'.',end='')\n"
   ]
  },
  {
   "cell_type": "code",
   "execution_count": 4,
   "metadata": {},
   "outputs": [
    {
     "name": "stdout",
     "output_type": "stream",
     "text": [
      "Enter positive number to add or negative number to exit: 1\n",
      "Enter positive number to add or negative number to exit: 1\n",
      "Enter positive number to add or negative number to exit: 1\n",
      "Enter positive number to add or negative number to exit: 1\n",
      "Enter positive number to add or negative number to exit: 1\n",
      "Enter positive number to add or negative number to exit: 1\n",
      "Enter positive number to add or negative number to exit: 1\n",
      "Enter positive number to add or negative number to exit: 1\n",
      "Enter positive number to add or negative number to exit: 1\n",
      "Enter positive number to add or negative number to exit: 1\n",
      "Enter positive number to add or negative number to exit: -1\n",
      "Total of all number is 10.0\n"
     ]
    }
   ],
   "source": [
    "num = 0\n",
    "total = 0\n",
    "while num >=0:\n",
    "    num= float(input('Enter positive number to add or negative number to exit: '))\n",
    "    total += num\n",
    "print('Total of all number is',total-num)\n",
    "    "
   ]
  },
  {
   "cell_type": "code",
   "execution_count": 46,
   "metadata": {},
   "outputs": [],
   "source": [
    "for r in range(8,0):\n",
    "    for c in range(r):\n",
    "        print('#',end=\"\")\n",
    "    print()"
   ]
  },
  {
   "cell_type": "code",
   "execution_count": 20,
   "metadata": {},
   "outputs": [
    {
     "name": "stdout",
     "output_type": "stream",
     "text": [
      "*******\n",
      "******\n",
      "*****\n",
      "****\n",
      "***\n",
      "**\n",
      "*\n"
     ]
    }
   ],
   "source": [
    "for r in range(7,0,-1):\n",
    "    for c in range(r):\n",
    "        print('*', end=\"\")\n",
    "    print()"
   ]
  },
  {
   "cell_type": "code",
   "execution_count": 50,
   "metadata": {},
   "outputs": [
    {
     "name": "stdout",
     "output_type": "stream",
     "text": [
      "##\n",
      "# #\n",
      "#  #\n",
      "#   #\n",
      "#    #\n",
      "#     #\n"
     ]
    }
   ],
   "source": [
    "for r in range(6):\n",
    "    print(\"#\", \" \"*r, '#',sep=\"\")\n",
    "   \n",
    "       \n",
    "    "
   ]
  },
  {
   "cell_type": "code",
   "execution_count": 58,
   "metadata": {},
   "outputs": [
    {
     "name": "stdout",
     "output_type": "stream",
     "text": [
      "##\n",
      "# #\n",
      "#  #\n",
      "#   #\n",
      "#    #\n",
      "#     #\n"
     ]
    }
   ],
   "source": [
    "for r in range(6):\n",
    "    print('#',end='')\n",
    "    for c in range(r):\n",
    "        print(' ',end='')\n",
    "    print('#')\n",
    "      "
   ]
  },
  {
   "cell_type": "code",
   "execution_count": null,
   "metadata": {},
   "outputs": [],
   "source": []
  }
 ],
 "metadata": {
  "kernelspec": {
   "display_name": "Python 3",
   "language": "python",
   "name": "python3"
  },
  "language_info": {
   "codemirror_mode": {
    "name": "ipython",
    "version": 3
   },
   "file_extension": ".py",
   "mimetype": "text/x-python",
   "name": "python",
   "nbconvert_exporter": "python",
   "pygments_lexer": "ipython3",
   "version": "3.6.5"
  }
 },
 "nbformat": 4,
 "nbformat_minor": 2
}
